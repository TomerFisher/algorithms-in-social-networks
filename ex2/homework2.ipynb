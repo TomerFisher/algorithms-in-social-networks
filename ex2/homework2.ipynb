{
  "nbformat": 4,
  "nbformat_minor": 0,
  "metadata": {
    "colab": {
      "provenance": []
    },
    "kernelspec": {
      "name": "python3",
      "display_name": "Python 3"
    },
    "language_info": {
      "name": "python"
    }
  },
  "cells": [
    {
      "cell_type": "markdown",
      "source": [
        "**Algorithms and Applications in Social Networks - HW #2**"
      ],
      "metadata": {
        "id": "Z6O8mNnkOOdc"
      }
    },
    {
      "cell_type": "code",
      "execution_count": 33,
      "metadata": {
        "id": "H0zMzB3MahxF"
      },
      "outputs": [],
      "source": [
        "import networkx as nx\n",
        "import matplotlib.pyplot as plt\n",
        "import random\n",
        "import numpy as np"
      ]
    },
    {
      "cell_type": "markdown",
      "source": [
        "**Question #1**"
      ],
      "metadata": {
        "id": "_QOZCtPRajE3"
      }
    },
    {
      "cell_type": "markdown",
      "source": [
        "a. Implement Newman-Girvan algorithm for non-overlapping communities. The\n",
        "algorithm should receive a network and parameter k (number of communities)\n",
        "and return the communities."
      ],
      "metadata": {
        "id": "RbB7FyFZavTe"
      }
    },
    {
      "cell_type": "code",
      "source": [
        "def newman_girvan(G, k):\n",
        "  communities = []\n",
        "  for connected_component in nx.connected_components(G):\n",
        "    communities.append(list(connected_component))\n",
        "  while(G.number_of_edges() > 0 and len(communities) != k):\n",
        "    betweenness_of_all_edges = nx.edge_betweenness_centrality(G)\n",
        "    max_edge = max(betweenness_of_all_edges, key=betweenness_of_all_edges.get)\n",
        "    G.remove_edge(*max_edge)\n",
        "    communities = []\n",
        "    for connected_component in nx.connected_components(G):\n",
        "      communities.append(list(connected_component))\n",
        "  return communities"
      ],
      "metadata": {
        "id": "c1lKia6ka1Hc"
      },
      "execution_count": 34,
      "outputs": []
    },
    {
      "cell_type": "markdown",
      "source": [
        "b. Run this algorithm on the biggest connected component of the following\n",
        "dataset: https://bit.ly/2KLHN60 (with k=3).\n",
        "Each line of the file represents an edge between two nodes."
      ],
      "metadata": {
        "id": "b_3AXJAVfPqv"
      }
    },
    {
      "cell_type": "code",
      "source": [
        "from urllib.request import Request, urlopen\n",
        "#get the data from the file\n",
        "url = \"https://bit.ly/2KLHN60\"\n",
        "request = Request(url)\n",
        "request.add_header('user-agent', 'Mozilla/5.0 (Macintosh; Intel Mac OS X 10_15_7) AppleWebKit/537.36 (KHTML, like Gecko) Chrome/103.0.0.0 Safari/537.36')\n",
        "data = urlopen(request)\n",
        "#crate graph from the data\n",
        "G=nx.Graph()\n",
        "for line in data:\n",
        "  edge = str(line,'utf-8').split()\n",
        "  G.add_edge(edge[0], edge[1])\n",
        "#find the biggest connected component\n",
        "Gcc = sorted(nx.connected_components(G), key=len, reverse=True)\n",
        "biggest_connected_component = nx.Graph(G.subgraph(Gcc[0]))\n",
        "#run newman_girvan on the biggest connected component\n",
        "communities = newman_girvan(biggest_connected_component, k=3)\n",
        "for index in range(len(communities)):\n",
        "  print(\"community\", index + 1, \": \", communities[index])"
      ],
      "metadata": {
        "id": "Vo04WGbVfQDm"
      },
      "execution_count": null,
      "outputs": []
    },
    {
      "cell_type": "markdown",
      "source": [
        "**Question #2**"
      ],
      "metadata": {
        "id": "CqshEP7OdD_6"
      }
    },
    {
      "cell_type": "markdown",
      "source": [
        "a. Implement k-clique communities detection algorithm. The algorithm should\n",
        "receive a network and parameter k and return the communities."
      ],
      "metadata": {
        "id": "Oyc3leCgdEIT"
      }
    },
    {
      "cell_type": "code",
      "source": [
        "def k_clique_communities_detection(G, k):\n",
        "  #find all maximal cliques\n",
        "  maximal_cliques = list(nx.find_cliques(G))\n",
        "  number_of_maximal_cliques = len(maximal_cliques)\n",
        "  #create clique overlap matrix\n",
        "  clique_overlap_matrix = np.empty((number_of_maximal_cliques, number_of_maximal_cliques), dtype=int)\n",
        "  for row in range(number_of_maximal_cliques):\n",
        "    for col in range(number_of_maximal_cliques):\n",
        "      clique_overlap_matrix[row][col] = len(np.intersect1d(maximal_cliques[row], maximal_cliques[col]))\n",
        "  #threshold matrix with k-1\n",
        "  for row in range(number_of_maximal_cliques):\n",
        "    for col in range(number_of_maximal_cliques):\n",
        "      if (row != col and clique_overlap_matrix[row][col] >= k-1) or (row == col and clique_overlap_matrix[row][col] >= k):\n",
        "        clique_overlap_matrix[row][col] = 1\n",
        "      else:\n",
        "        clique_overlap_matrix[row][col] = 0\n",
        "  #communities are connected components\n",
        "  G_communities = nx.Graph()\n",
        "  G_communities.add_nodes_from(range(number_of_maximal_cliques))\n",
        "  for row in range(number_of_maximal_cliques):\n",
        "    for col in range(number_of_maximal_cliques):\n",
        "      if row >= col and clique_overlap_matrix[row][col] == 1:\n",
        "        G_communities.add_edge(row, col)\n",
        "  zero_degree_nodes = [node for node,degree in dict(G_communities.degree()).items() if degree == 0]\n",
        "  G_communities.remove_nodes_from(zero_degree_nodes)\n",
        "  connected_components = list(nx.connected_components(G_communities))\n",
        "  communities = []\n",
        "  for connected_component in connected_components:\n",
        "    community = np.empty(0)\n",
        "    for node in connected_component:\n",
        "      community = np.unique(np.concatenate((community, maximal_cliques[node]), axis=0))\n",
        "    communities.append(community)\n",
        "  return communities"
      ],
      "metadata": {
        "id": "uAm5tvyLdEYD"
      },
      "execution_count": 36,
      "outputs": []
    },
    {
      "cell_type": "markdown",
      "source": [
        "b. Run this algorithm on the biggest connected component of the following\n",
        "dataset: https://bit.ly/2KLHN60 (with k=4).\n"
      ],
      "metadata": {
        "id": "aoxRrK4WdEiN"
      }
    },
    {
      "cell_type": "code",
      "source": [
        "from urllib.request import Request, urlopen\n",
        "#get the data from the file\n",
        "url = \"https://bit.ly/2KLHN60\"\n",
        "request = Request(url)\n",
        "request.add_header('user-agent', 'Mozilla/5.0 (Macintosh; Intel Mac OS X 10_15_7) AppleWebKit/537.36 (KHTML, like Gecko) Chrome/103.0.0.0 Safari/537.36')\n",
        "data = urlopen(request)\n",
        "#crate graph from the data\n",
        "G=nx.Graph()\n",
        "for line in data:\n",
        "  edge = str(line,'utf-8').split()\n",
        "  G.add_edge(edge[0], edge[1])\n",
        "#find the biggest connected component\n",
        "Gcc = sorted(nx.connected_components(G), key=len, reverse=True)\n",
        "biggest_connected_component = nx.Graph(G.subgraph(Gcc[0]))\n",
        "#run k-clique communities detection on the biggest connected component\n",
        "communities = k_clique_communities_detection(biggest_connected_component, k=4)\n",
        "for index in range(len(communities)):\n",
        "  print(\"community\", index + 1, \": \", communities[index])"
      ],
      "metadata": {
        "id": "7dlCu0abdEsp"
      },
      "execution_count": null,
      "outputs": []
    }
  ]
}